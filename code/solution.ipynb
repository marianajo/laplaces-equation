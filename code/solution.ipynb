{
 "cells": [
  {
   "cell_type": "markdown",
   "metadata": {},
   "source": [
    "# Solução Numérica da Equação de Laplace\n",
    "***Mariana Jó (7241072)***\n",
    "\n",
    "*Eletromagnetismo I, 2017*\n",
    "___"
   ]
  },
  {
   "cell_type": "markdown",
   "metadata": {},
   "source": [
    "Os seguintes passos serão seguidos a fim de encontrar a solução da Equação de Laplace 2D:\n",
    "\n",
    "1. Definição da geometria\n",
    "1. Discretização do domínio\n",
    "1. Especificação das condições de contorno\n",
    "1. \"Chute\" inicial de valores arbitrários para o interior da região\n",
    "1. Aplicação os métodos que nos dão a solução"
   ]
  },
  {
   "cell_type": "code",
   "execution_count": 101,
   "metadata": {
    "collapsed": true
   },
   "outputs": [],
   "source": [
    "# Importando todas as bibliotecas necessárias na solução\n",
    "\n",
    "import numpy as np\n",
    "import itertools\n",
    "import matplotlib.pyplot as plt\n",
    "import matplotlib.cm as cm\n",
    "%matplotlib inline"
   ]
  },
  {
   "cell_type": "markdown",
   "metadata": {},
   "source": [
    "## 1. Definição da geometria\n",
    "\n",
    "Vamos analisar um problema de 2 dimensões, num retângulo de lados $m$ e $n$:"
   ]
  },
  {
   "cell_type": "code",
   "execution_count": 141,
   "metadata": {
    "collapsed": true
   },
   "outputs": [],
   "source": [
    "a, b = 100, 100"
   ]
  },
  {
   "cell_type": "markdown",
   "metadata": {},
   "source": [
    "## 2. Discretização do domínio\n",
    "\n",
    "Podemos escolher diversas formas de discretização $h$ e analisar os diferentes resultados para todas elas. Utilizaremos o sistema de coordenadas cartesianas, com o retângulo no plano $xy$, onde $0 \\leq x \\leq a$ e $0 \\leq y \\leq b$:"
   ]
  },
  {
   "cell_type": "code",
   "execution_count": 152,
   "metadata": {},
   "outputs": [],
   "source": [
    "h = 100\n",
    "x = np.linspace(0, a, h)\n",
    "y = np.linspace(0, b, h)\n",
    "xv, yv = np.meshgrid(x, y, sparse=True)"
   ]
  },
  {
   "cell_type": "markdown",
   "metadata": {},
   "source": [
    "## 3. Especificação das condicões de contorno\n",
    "\n",
    "Primeiramente definimos as condições de contorno nas bordas do retângulo:\n",
    "\n",
    "1. $V(0,y)=75$\n",
    "1. $V(a,y)=0$\n",
    "1. $V(x,0)=50$\n",
    "1. $V(x,b)=100$"
   ]
  },
  {
   "cell_type": "code",
   "execution_count": 153,
   "metadata": {
    "collapsed": true
   },
   "outputs": [],
   "source": [
    "bc = {\"top\":1000, \n",
    "      \"bottom\":50,\n",
    "      \"left\":250,\n",
    "      \"right\":0\n",
    "     }"
   ]
  },
  {
   "cell_type": "markdown",
   "metadata": {},
   "source": [
    "## 4. \"Chute\" inicial de valores arbitrários para o interior da região\n",
    "\n",
    "Fazemos, então, com que os valores da região interna ao retângulo sejam a média dos valores nas bordas:"
   ]
  },
  {
   "cell_type": "code",
   "execution_count": 154,
   "metadata": {},
   "outputs": [],
   "source": [
    "z = np.ones(shape=(h, h))*np.mean(list(bc.values()))\n",
    "\n",
    "# Adicionando as condições de contorno nas bordas\n",
    "z[0,1:-1] = bc[\"top\"]\n",
    "z[-1,1:-1] = bc[\"bottom\"]\n",
    "z[1:-1,0] = bc[\"left\"]\n",
    "z[1:-1,-1] = bc[\"right\"]"
   ]
  },
  {
   "cell_type": "markdown",
   "metadata": {},
   "source": [
    "Os valores das quinas sobrescrevem uns aos outros durante o procedimento anterior. Dessa maneira, fazemos com que as quinas sejam a média dos valores das bordas da quina em questão. Note que aqui há uma certa inconsistência física, pois nas quinas, fisicamente, ocorrem efeitos de borda. Porém, para este problema, vamos utilizar este procedimento da média."
   ]
  },
  {
   "cell_type": "code",
   "execution_count": 155,
   "metadata": {},
   "outputs": [
    {
     "name": "stdout",
     "output_type": "stream",
     "text": [
      "[[  625.  1000.  1000. ...,  1000.  1000.   500.]\n",
      " [  250.   325.   325. ...,   325.   325.     0.]\n",
      " [  250.   325.   325. ...,   325.   325.     0.]\n",
      " ..., \n",
      " [  250.   325.   325. ...,   325.   325.     0.]\n",
      " [  250.   325.   325. ...,   325.   325.     0.]\n",
      " [  150.    50.    50. ...,    50.    50.    25.]]\n"
     ]
    }
   ],
   "source": [
    "z[0,0] = np.mean([bc[\"top\"], bc[\"left\"]])\n",
    "z[0,-1] = np.mean([bc[\"top\"], bc[\"right\"]])\n",
    "z[-1,0] = np.mean([bc[\"bottom\"], bc[\"left\"]])\n",
    "z[-1,-1] = np.mean([bc[\"bottom\"], bc[\"right\"]])\n",
    "print(z)"
   ]
  },
  {
   "cell_type": "markdown",
   "metadata": {},
   "source": [
    "Assim, temos nosso retângulo original, com os valores determinados nas bordas e estimados no interior:"
   ]
  },
  {
   "cell_type": "code",
   "execution_count": 156,
   "metadata": {},
   "outputs": [
    {
     "data": {
      "text/plain": [
       "<matplotlib.colorbar.Colorbar at 0x7fc04c5b2978>"
      ]
     },
     "execution_count": 156,
     "metadata": {},
     "output_type": "execute_result"
    },
    {
     "data": {
      "image/png": "[encoded data removed]",
      "text/plain": [
       "<matplotlib.figure.Figure at 0x7fc04c8f47b8>"
      ]
     },
     "metadata": {},
     "output_type": "display_data"
    }
   ],
   "source": [
    "z_fig = plt.figure()\n",
    "axes = z_fig.add_axes([0.1, 0.1, 0.8, 0.8])\n",
    "mappable = axes.imshow(z, cmap=cm.RdYlGn, interpolation='gaussian', origin='lower')\n",
    "z_fig.colorbar(mappable, ax=axes)"
   ]
  },
  {
   "cell_type": "markdown",
   "metadata": {},
   "source": [
    "## 5. Aplicação os métodos que nos dão a solução\n",
    "\n",
    "Iremos utilizar o mesmo número de iterações para cada método.\n",
    "\n",
    "### Método de Jacobi\n",
    "\n",
    "Para $N=10$:"
   ]
  },
  {
   "cell_type": "code",
   "execution_count": 157,
   "metadata": {
    "collapsed": true
   },
   "outputs": [],
   "source": [
    "N = 10"
   ]
  },
  {
   "cell_type": "markdown",
   "metadata": {},
   "source": [
    "*Explicar o método sucintamente*"
   ]
  },
  {
   "cell_type": "code",
   "execution_count": 158,
   "metadata": {
    "collapsed": true
   },
   "outputs": [],
   "source": [
    "j = z\n",
    "\n",
    "for i in range(N):\n",
    "    for r, c in itertools.product(range(1, h-1), range(1, h-1)):\n",
    "        adj = [z[r-1, c], z[r+1, c], z[r, c-1], z[r, c+1]]\n",
    "        j[r, c] = np.mean(adj)"
   ]
  },
  {
   "cell_type": "markdown",
   "metadata": {},
   "source": [
    "- Calculo do erro\n",
    "- Gravar num dataframe"
   ]
  },
  {
   "cell_type": "code",
   "execution_count": 159,
   "metadata": {},
   "outputs": [
    {
     "data": {
      "text/plain": [
       "<matplotlib.colorbar.Colorbar at 0x7fc04c43afd0>"
      ]
     },
     "execution_count": 159,
     "metadata": {},
     "output_type": "execute_result"
    },
    {
     "data": {
      "image/png": "[encoded data removed]",
      "text/plain": [
       "<matplotlib.figure.Figure at 0x7fc04c4b54e0>"
      ]
     },
     "metadata": {},
     "output_type": "display_data"
    }
   ],
   "source": [
    "j_fig = plt.figure()\n",
    "axes = j_fig.add_axes([0.1, 0.1, 0.8, 0.8])\n",
    "mappable = axes.imshow(j, cmap=cm.RdYlGn, interpolation='gaussian', origin='lower')\n",
    "j_fig.colorbar(mappable, ax=axes)"
   ]
  },
  {
   "cell_type": "markdown",
   "metadata": {},
   "source": [
    "#### Análise de erro"
   ]
  },
  {
   "cell_type": "markdown",
   "metadata": {},
   "source": [
    "### Método de Gauss-Seidel\n",
    "\n",
    "Explicar método e a diferença dele pro Jacobi\n",
    "\n",
    "Para $N=10$:"
   ]
  },
  {
   "cell_type": "code",
   "execution_count": 166,
   "metadata": {},
   "outputs": [
    {
     "name": "stdout",
     "output_type": "stream",
     "text": [
      "[[  625.          1000.          1000.         ...,  1000.          1000.\n",
      "    500.        ]\n",
      " [  250.           623.45930818   770.17403444 ...,   696.1829857\n",
      "    499.26962586     0.        ]\n",
      " [  250.           473.71118033   618.93256192 ...,   497.09902882\n",
      "    300.90563341     0.        ]\n",
      " ..., \n",
      " [  250.           191.28818302   153.49290561 ...,    30.56407213\n",
      "     17.89983712     0.        ]\n",
      " [  250.           150.88002992   112.21831902 ...,    37.66430703\n",
      "     26.39103604     0.        ]\n",
      " [  150.            50.            50.         ...,    50.            50.\n",
      "     25.        ]]\n"
     ]
    }
   ],
   "source": [
    "g = z                    \n",
    "\n",
    "for i in range(N):\n",
    "    for r, c in itertools.product(range(1, h-1), range(1, h-1)):\n",
    "        adj = [g[r-1, c], g[r+1, c], g[r, c-1], g[r, c+1]]\n",
    "        g[r, c] = np.mean(adj)\n",
    "print(g)"
   ]
  },
  {
   "cell_type": "markdown",
   "metadata": {},
   "source": [
    "- Calculo do erro\n",
    "- Gravar num dataframe"
   ]
  },
  {
   "cell_type": "code",
   "execution_count": 168,
   "metadata": {},
   "outputs": [
    {
     "data": {
      "text/plain": [
       "<matplotlib.text.Text at 0x7fc03fe12748>"
      ]
     },
     "execution_count": 168,
     "metadata": {},
     "output_type": "execute_result"
    },
    {
     "data": {
      "image/png": "[encoded data removed]",
      "text/plain": [
       "<matplotlib.figure.Figure at 0x7fc03fe74080>"
      ]
     },
     "metadata": {},
     "output_type": "display_data"
    }
   ],
   "source": [
    "g_fig = plt.figure()\n",
    "axes = g_fig.add_axes([0.1, 0.1, 0.8, 0.8])\n",
    "mappable = axes.imshow(g, cmap=cm.RdYlGn, interpolation='none', origin='lower')\n",
    "g_fig.colorbar(mappable, ax=axes)\n",
    "plt.xlabel('x')\n",
    "plt.ylabel('y')"
   ]
  },
  {
   "cell_type": "markdown",
   "metadata": {},
   "source": [
    "#### Análise do erro"
   ]
  }
 ],
 "metadata": {
  "kernelspec": {
   "display_name": "Python 3",
   "language": "python",
   "name": "python3"
  },
  "language_info": {
   "codemirror_mode": {
    "name": "ipython",
    "version": 3
   },
   "file_extension": ".py",
   "mimetype": "text/x-python",
   "name": "python",
   "nbconvert_exporter": "python",
   "pygments_lexer": "ipython3",
   "version": "3.6.2"
  }
 },
 "nbformat": 4,
 "nbformat_minor": 2
}
